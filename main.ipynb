{
 "cells": [
  {
   "cell_type": "code",
   "execution_count": 3,
   "id": "28972ec7",
   "metadata": {
    "ExecuteTime": {
     "end_time": "2024-02-07T08:49:20.406081900Z",
     "start_time": "2024-02-07T08:49:20.382500Z"
    }
   },
   "outputs": [
    {
     "ename": "ModuleNotFoundError",
     "evalue": "No module named 'matplotlib'",
     "output_type": "error",
     "traceback": [
      "\u001B[1;31m---------------------------------------------------------------------------\u001B[0m",
      "\u001B[1;31mModuleNotFoundError\u001B[0m                       Traceback (most recent call last)",
      "Cell \u001B[1;32mIn[3], line 2\u001B[0m\n\u001B[0;32m      1\u001B[0m \u001B[38;5;28;01mimport\u001B[39;00m \u001B[38;5;21;01mpandas\u001B[39;00m \u001B[38;5;28;01mas\u001B[39;00m \u001B[38;5;21;01mpd\u001B[39;00m\n\u001B[1;32m----> 2\u001B[0m \u001B[38;5;28;01mimport\u001B[39;00m \u001B[38;5;21;01mmatplotlib\u001B[39;00m\u001B[38;5;21;01m.\u001B[39;00m\u001B[38;5;21;01mpyplot\u001B[39;00m \u001B[38;5;28;01mas\u001B[39;00m \u001B[38;5;21;01mplt\u001B[39;00m\n\u001B[0;32m      3\u001B[0m \u001B[38;5;66;03m# Importera pandas för datahantering och matplotlib för visualisering\u001B[39;00m\n",
      "\u001B[1;31mModuleNotFoundError\u001B[0m: No module named 'matplotlib'"
     ]
    }
   ],
   "source": [
    "import pandas as pd\n",
    "import matplotlib.pyplot as plt\n",
    "# Importera pandas för datahantering och matplotlib för visualisering"
   ]
  },
  {
   "cell_type": "code",
   "execution_count": 4,
   "id": "43005bce",
   "metadata": {
    "ExecuteTime": {
     "end_time": "2024-02-07T08:49:32.101567800Z",
     "start_time": "2024-02-07T08:49:31.846132700Z"
    }
   },
   "outputs": [
    {
     "ename": "ImportError",
     "evalue": "Missing optional dependency 'openpyxl'.  Use pip or conda to install openpyxl.",
     "output_type": "error",
     "traceback": [
      "\u001B[1;31m---------------------------------------------------------------------------\u001B[0m",
      "\u001B[1;31mModuleNotFoundError\u001B[0m                       Traceback (most recent call last)",
      "File \u001B[1;32m~\\AppData\\Local\\Programs\\Python\\Python312\\Lib\\site-packages\\pandas\\compat\\_optional.py:132\u001B[0m, in \u001B[0;36mimport_optional_dependency\u001B[1;34m(name, extra, errors, min_version)\u001B[0m\n\u001B[0;32m    131\u001B[0m \u001B[38;5;28;01mtry\u001B[39;00m:\n\u001B[1;32m--> 132\u001B[0m     module \u001B[38;5;241m=\u001B[39m \u001B[43mimportlib\u001B[49m\u001B[38;5;241;43m.\u001B[39;49m\u001B[43mimport_module\u001B[49m\u001B[43m(\u001B[49m\u001B[43mname\u001B[49m\u001B[43m)\u001B[49m\n\u001B[0;32m    133\u001B[0m \u001B[38;5;28;01mexcept\u001B[39;00m \u001B[38;5;167;01mImportError\u001B[39;00m:\n",
      "File \u001B[1;32m~\\AppData\\Local\\Programs\\Python\\Python312\\Lib\\importlib\\__init__.py:90\u001B[0m, in \u001B[0;36mimport_module\u001B[1;34m(name, package)\u001B[0m\n\u001B[0;32m     89\u001B[0m         level \u001B[38;5;241m+\u001B[39m\u001B[38;5;241m=\u001B[39m \u001B[38;5;241m1\u001B[39m\n\u001B[1;32m---> 90\u001B[0m \u001B[38;5;28;01mreturn\u001B[39;00m \u001B[43m_bootstrap\u001B[49m\u001B[38;5;241;43m.\u001B[39;49m\u001B[43m_gcd_import\u001B[49m\u001B[43m(\u001B[49m\u001B[43mname\u001B[49m\u001B[43m[\u001B[49m\u001B[43mlevel\u001B[49m\u001B[43m:\u001B[49m\u001B[43m]\u001B[49m\u001B[43m,\u001B[49m\u001B[43m \u001B[49m\u001B[43mpackage\u001B[49m\u001B[43m,\u001B[49m\u001B[43m \u001B[49m\u001B[43mlevel\u001B[49m\u001B[43m)\u001B[49m\n",
      "File \u001B[1;32m<frozen importlib._bootstrap>:1381\u001B[0m, in \u001B[0;36m_gcd_import\u001B[1;34m(name, package, level)\u001B[0m\n",
      "File \u001B[1;32m<frozen importlib._bootstrap>:1354\u001B[0m, in \u001B[0;36m_find_and_load\u001B[1;34m(name, import_)\u001B[0m\n",
      "File \u001B[1;32m<frozen importlib._bootstrap>:1318\u001B[0m, in \u001B[0;36m_find_and_load_unlocked\u001B[1;34m(name, import_)\u001B[0m\n",
      "\u001B[1;31mModuleNotFoundError\u001B[0m: No module named 'openpyxl'",
      "\nDuring handling of the above exception, another exception occurred:\n",
      "\u001B[1;31mImportError\u001B[0m                               Traceback (most recent call last)",
      "Cell \u001B[1;32mIn[4], line 2\u001B[0m\n\u001B[0;32m      1\u001B[0m \u001B[38;5;66;03m# Läser in data om bostadsrättspriser från en Excel-fil och sätt \"År\" som index\u001B[39;00m\n\u001B[1;32m----> 2\u001B[0m df_bostadsratter \u001B[38;5;241m=\u001B[39m \u001B[43mpd\u001B[49m\u001B[38;5;241;43m.\u001B[39;49m\u001B[43mread_excel\u001B[49m\u001B[43m(\u001B[49m\u001B[38;5;124;43m\"\u001B[39;49m\u001B[38;5;124;43mbostadsrattspriser.xlsx\u001B[39;49m\u001B[38;5;124;43m\"\u001B[39;49m\u001B[43m,\u001B[49m\u001B[43mindex_col\u001B[49m\u001B[38;5;241;43m=\u001B[39;49m\u001B[38;5;124;43m\"\u001B[39;49m\u001B[38;5;124;43mÅr\u001B[39;49m\u001B[38;5;124;43m\"\u001B[39;49m\u001B[43m)\u001B[49m\n\u001B[0;32m      4\u001B[0m \u001B[38;5;66;03m# Läser in data om fastighetsindex från en Excel-fil och sätt \"År\" som index\u001B[39;00m\n\u001B[0;32m      5\u001B[0m df_fastighetsindex \u001B[38;5;241m=\u001B[39m pd\u001B[38;5;241m.\u001B[39mread_excel(\u001B[38;5;124m\"\u001B[39m\u001B[38;5;124mFastighetsindex.xlsx\u001B[39m\u001B[38;5;124m\"\u001B[39m,index_col\u001B[38;5;241m=\u001B[39m\u001B[38;5;124m\"\u001B[39m\u001B[38;5;124mÅr\u001B[39m\u001B[38;5;124m\"\u001B[39m)\n",
      "File \u001B[1;32m~\\AppData\\Local\\Programs\\Python\\Python312\\Lib\\site-packages\\pandas\\io\\excel\\_base.py:504\u001B[0m, in \u001B[0;36mread_excel\u001B[1;34m(io, sheet_name, header, names, index_col, usecols, dtype, engine, converters, true_values, false_values, skiprows, nrows, na_values, keep_default_na, na_filter, verbose, parse_dates, date_parser, date_format, thousands, decimal, comment, skipfooter, storage_options, dtype_backend, engine_kwargs)\u001B[0m\n\u001B[0;32m    502\u001B[0m \u001B[38;5;28;01mif\u001B[39;00m \u001B[38;5;129;01mnot\u001B[39;00m \u001B[38;5;28misinstance\u001B[39m(io, ExcelFile):\n\u001B[0;32m    503\u001B[0m     should_close \u001B[38;5;241m=\u001B[39m \u001B[38;5;28;01mTrue\u001B[39;00m\n\u001B[1;32m--> 504\u001B[0m     io \u001B[38;5;241m=\u001B[39m \u001B[43mExcelFile\u001B[49m\u001B[43m(\u001B[49m\n\u001B[0;32m    505\u001B[0m \u001B[43m        \u001B[49m\u001B[43mio\u001B[49m\u001B[43m,\u001B[49m\n\u001B[0;32m    506\u001B[0m \u001B[43m        \u001B[49m\u001B[43mstorage_options\u001B[49m\u001B[38;5;241;43m=\u001B[39;49m\u001B[43mstorage_options\u001B[49m\u001B[43m,\u001B[49m\n\u001B[0;32m    507\u001B[0m \u001B[43m        \u001B[49m\u001B[43mengine\u001B[49m\u001B[38;5;241;43m=\u001B[39;49m\u001B[43mengine\u001B[49m\u001B[43m,\u001B[49m\n\u001B[0;32m    508\u001B[0m \u001B[43m        \u001B[49m\u001B[43mengine_kwargs\u001B[49m\u001B[38;5;241;43m=\u001B[39;49m\u001B[43mengine_kwargs\u001B[49m\u001B[43m,\u001B[49m\n\u001B[0;32m    509\u001B[0m \u001B[43m    \u001B[49m\u001B[43m)\u001B[49m\n\u001B[0;32m    510\u001B[0m \u001B[38;5;28;01melif\u001B[39;00m engine \u001B[38;5;129;01mand\u001B[39;00m engine \u001B[38;5;241m!=\u001B[39m io\u001B[38;5;241m.\u001B[39mengine:\n\u001B[0;32m    511\u001B[0m     \u001B[38;5;28;01mraise\u001B[39;00m \u001B[38;5;167;01mValueError\u001B[39;00m(\n\u001B[0;32m    512\u001B[0m         \u001B[38;5;124m\"\u001B[39m\u001B[38;5;124mEngine should not be specified when passing \u001B[39m\u001B[38;5;124m\"\u001B[39m\n\u001B[0;32m    513\u001B[0m         \u001B[38;5;124m\"\u001B[39m\u001B[38;5;124man ExcelFile - ExcelFile already has the engine set\u001B[39m\u001B[38;5;124m\"\u001B[39m\n\u001B[0;32m    514\u001B[0m     )\n",
      "File \u001B[1;32m~\\AppData\\Local\\Programs\\Python\\Python312\\Lib\\site-packages\\pandas\\io\\excel\\_base.py:1580\u001B[0m, in \u001B[0;36mExcelFile.__init__\u001B[1;34m(self, path_or_buffer, engine, storage_options, engine_kwargs)\u001B[0m\n\u001B[0;32m   1577\u001B[0m \u001B[38;5;28mself\u001B[39m\u001B[38;5;241m.\u001B[39mengine \u001B[38;5;241m=\u001B[39m engine\n\u001B[0;32m   1578\u001B[0m \u001B[38;5;28mself\u001B[39m\u001B[38;5;241m.\u001B[39mstorage_options \u001B[38;5;241m=\u001B[39m storage_options\n\u001B[1;32m-> 1580\u001B[0m \u001B[38;5;28mself\u001B[39m\u001B[38;5;241m.\u001B[39m_reader \u001B[38;5;241m=\u001B[39m \u001B[38;5;28;43mself\u001B[39;49m\u001B[38;5;241;43m.\u001B[39;49m\u001B[43m_engines\u001B[49m\u001B[43m[\u001B[49m\u001B[43mengine\u001B[49m\u001B[43m]\u001B[49m\u001B[43m(\u001B[49m\n\u001B[0;32m   1581\u001B[0m \u001B[43m    \u001B[49m\u001B[38;5;28;43mself\u001B[39;49m\u001B[38;5;241;43m.\u001B[39;49m\u001B[43m_io\u001B[49m\u001B[43m,\u001B[49m\n\u001B[0;32m   1582\u001B[0m \u001B[43m    \u001B[49m\u001B[43mstorage_options\u001B[49m\u001B[38;5;241;43m=\u001B[39;49m\u001B[43mstorage_options\u001B[49m\u001B[43m,\u001B[49m\n\u001B[0;32m   1583\u001B[0m \u001B[43m    \u001B[49m\u001B[43mengine_kwargs\u001B[49m\u001B[38;5;241;43m=\u001B[39;49m\u001B[43mengine_kwargs\u001B[49m\u001B[43m,\u001B[49m\n\u001B[0;32m   1584\u001B[0m \u001B[43m\u001B[49m\u001B[43m)\u001B[49m\n",
      "File \u001B[1;32m~\\AppData\\Local\\Programs\\Python\\Python312\\Lib\\site-packages\\pandas\\io\\excel\\_openpyxl.py:552\u001B[0m, in \u001B[0;36mOpenpyxlReader.__init__\u001B[1;34m(self, filepath_or_buffer, storage_options, engine_kwargs)\u001B[0m\n\u001B[0;32m    534\u001B[0m \u001B[38;5;129m@doc\u001B[39m(storage_options\u001B[38;5;241m=\u001B[39m_shared_docs[\u001B[38;5;124m\"\u001B[39m\u001B[38;5;124mstorage_options\u001B[39m\u001B[38;5;124m\"\u001B[39m])\n\u001B[0;32m    535\u001B[0m \u001B[38;5;28;01mdef\u001B[39;00m \u001B[38;5;21m__init__\u001B[39m(\n\u001B[0;32m    536\u001B[0m     \u001B[38;5;28mself\u001B[39m,\n\u001B[1;32m   (...)\u001B[0m\n\u001B[0;32m    539\u001B[0m     engine_kwargs: \u001B[38;5;28mdict\u001B[39m \u001B[38;5;241m|\u001B[39m \u001B[38;5;28;01mNone\u001B[39;00m \u001B[38;5;241m=\u001B[39m \u001B[38;5;28;01mNone\u001B[39;00m,\n\u001B[0;32m    540\u001B[0m ) \u001B[38;5;241m-\u001B[39m\u001B[38;5;241m>\u001B[39m \u001B[38;5;28;01mNone\u001B[39;00m:\n\u001B[0;32m    541\u001B[0m \u001B[38;5;250m    \u001B[39m\u001B[38;5;124;03m\"\"\"\u001B[39;00m\n\u001B[0;32m    542\u001B[0m \u001B[38;5;124;03m    Reader using openpyxl engine.\u001B[39;00m\n\u001B[0;32m    543\u001B[0m \n\u001B[1;32m   (...)\u001B[0m\n\u001B[0;32m    550\u001B[0m \u001B[38;5;124;03m        Arbitrary keyword arguments passed to excel engine.\u001B[39;00m\n\u001B[0;32m    551\u001B[0m \u001B[38;5;124;03m    \"\"\"\u001B[39;00m\n\u001B[1;32m--> 552\u001B[0m     \u001B[43mimport_optional_dependency\u001B[49m\u001B[43m(\u001B[49m\u001B[38;5;124;43m\"\u001B[39;49m\u001B[38;5;124;43mopenpyxl\u001B[39;49m\u001B[38;5;124;43m\"\u001B[39;49m\u001B[43m)\u001B[49m\n\u001B[0;32m    553\u001B[0m     \u001B[38;5;28msuper\u001B[39m()\u001B[38;5;241m.\u001B[39m\u001B[38;5;21m__init__\u001B[39m(\n\u001B[0;32m    554\u001B[0m         filepath_or_buffer,\n\u001B[0;32m    555\u001B[0m         storage_options\u001B[38;5;241m=\u001B[39mstorage_options,\n\u001B[0;32m    556\u001B[0m         engine_kwargs\u001B[38;5;241m=\u001B[39mengine_kwargs,\n\u001B[0;32m    557\u001B[0m     )\n",
      "File \u001B[1;32m~\\AppData\\Local\\Programs\\Python\\Python312\\Lib\\site-packages\\pandas\\compat\\_optional.py:135\u001B[0m, in \u001B[0;36mimport_optional_dependency\u001B[1;34m(name, extra, errors, min_version)\u001B[0m\n\u001B[0;32m    133\u001B[0m \u001B[38;5;28;01mexcept\u001B[39;00m \u001B[38;5;167;01mImportError\u001B[39;00m:\n\u001B[0;32m    134\u001B[0m     \u001B[38;5;28;01mif\u001B[39;00m errors \u001B[38;5;241m==\u001B[39m \u001B[38;5;124m\"\u001B[39m\u001B[38;5;124mraise\u001B[39m\u001B[38;5;124m\"\u001B[39m:\n\u001B[1;32m--> 135\u001B[0m         \u001B[38;5;28;01mraise\u001B[39;00m \u001B[38;5;167;01mImportError\u001B[39;00m(msg)\n\u001B[0;32m    136\u001B[0m     \u001B[38;5;28;01mreturn\u001B[39;00m \u001B[38;5;28;01mNone\u001B[39;00m\n\u001B[0;32m    138\u001B[0m \u001B[38;5;66;03m# Handle submodules: if we have submodule, grab parent module from sys.modules\u001B[39;00m\n",
      "\u001B[1;31mImportError\u001B[0m: Missing optional dependency 'openpyxl'.  Use pip or conda to install openpyxl."
     ]
    }
   ],
   "source": [
    "# Läser in data om bostadsrättspriser från en Excel-fil och sätt \"År\" som index\n",
    "df_bostadsratter = pd.read_excel(\"bostadsrattspriser.xlsx\",index_col=\"År\")\n",
    "\n",
    "# Läser in data om fastighetsindex från en Excel-fil och sätt \"År\" som index\n",
    "df_fastighetsindex = pd.read_excel(\"Fastighetsindex.xlsx\",index_col=\"År\")\n",
    "\n",
    "# Läser in data om KPIF-medelvärden från en Excel-fil och sätt \"År\" som index\n",
    "df_kpif_median = pd.read_excel(\"kpif-stats-medianyear.xlsx\",index_col=\"År\")\n",
    "\n",
    "# Läser in data om medianarbetslöshet från en Excel-fil och sätt \"År\" som index\n",
    "df_arbetsloshet_median = pd.read_excel(\"arbetsloshet-median.xlsx\", index_col=\"År\")"
   ]
  },
  {
   "cell_type": "code",
   "execution_count": 3,
   "id": "233d320f",
   "metadata": {},
   "outputs": [],
   "source": [
    "# Tilldelar namn till varje DataFrame för att underlätta identifiering senare\n",
    "df_bostadsratter.name = \"df_bostadsratter\"\n",
    "df_fastighetsindex.name = \"df_fastighetsindex\"\n",
    "df_kpif_median.name = \"df_kpif_median\"\n",
    "df_arbetsloshet_median.name = \"df_arbetsloshet_median\""
   ]
  },
  {
   "cell_type": "code",
   "execution_count": 4,
   "id": "ef9dcbfc",
   "metadata": {},
   "outputs": [],
   "source": [
    "# Skapar en dictionary för att mappa DataFrame-namn till motsvarande y-axelns namn\n",
    "y_labels = {\n",
    "    \"df_bostadsratter\": \"Pris/Kvm\",\n",
    "    \"df_fastighetsindex\": \"Fastighetsprisindex\",\n",
    "    \"df_kpif_median\": \"KPIF\",\n",
    "    \"df_arbetsloshet_median\": \"Antal\"\n",
    "}\n"
   ]
  },
  {
   "cell_type": "code",
   "execution_count": 5,
   "id": "abe738f8",
   "metadata": {},
   "outputs": [],
   "source": [
    "# Definierar en funktion för att jämföra två DataFrames i en plot\n",
    "def compare_dataframes(df1, df2, y_labels):\n",
    "    #Ställer in figsize och \n",
    "    fig, ax1 = plt.subplots(figsize=(10, 6))\n",
    "\n",
    "    # Hämtar y-axelns etiketter för de valda DataFrames baserat på deras namn\n",
    "    y_label_df1 = y_labels.get(df1.name, \"Value\")\n",
    "    y_label_df2 = y_labels.get(df2.name, \"Value\")\n",
    "\n",
    "    # Ritar ut varje kolumn i den första DataFramen i diagrammet genom en for-loop då vissa Dataframes har flera kolumner\n",
    "    for column in df1.columns:\n",
    "        ax1.plot(df1.index, df1[column], label=column)\n",
    "        \n",
    "    # Ställer in x-axelns och den första y-axelns etiketter\n",
    "    ax1.set_xlabel('År')\n",
    "    ax1.set_ylabel(y_label_df1)\n",
    "\n",
    "    # Skapar en andra y-axel för att rita ut den andra DataFrame\n",
    "    ax2 = ax1.twinx()\n",
    "    for column in df2.columns:\n",
    "        ax2.plot(df2.index, df2[column], label=column, linestyle='--')\n",
    "    \n",
    "    # Ställer in namn för den andra y-axeln\n",
    "    ax2.set_ylabel(y_label_df2)\n",
    "\n",
    "     # Konfigurera linje-förklaring (legend) och titel\n",
    "    lines, labels = ax1.get_legend_handles_labels()\n",
    "    lines2, labels2 = ax2.get_legend_handles_labels()\n",
    "    ax2.legend(lines + lines2, labels + labels2, loc='upper left', bbox_to_anchor=(0.1, 0.9))\n",
    "    \n",
    "    # Sätter en generisk titel och visar diagrammet med en \"grid\"\n",
    "    plt.title(\"Digram över önskad data\")\n",
    "    plt.grid(True)\n",
    "    plt.show()\n"
   ]
  },
  {
   "cell_type": "code",
   "execution_count": 6,
   "id": "11865bc9",
   "metadata": {},
   "outputs": [],
   "source": [
    "# Definiera en funktion för att visa en DataFrame som ett diagram med en \"grid\"\n",
    "def plot_dataframe(df):\n",
    "    df.plot()\n",
    "    plt.grid(True)\n",
    "    plt.show()\n"
   ]
  },
  {
   "cell_type": "code",
   "execution_count": 7,
   "id": "0f7f24d6",
   "metadata": {},
   "outputs": [],
   "source": [
    "# Definiera en funktion för att låta användaren välja en DataFrame att jämföra. \n",
    "def get_dataframe_choice():\n",
    "    print(\"\\nVälj en DataFrame att jämföra:\")\n",
    "    print(\"1. Bostadsrättspriser\")\n",
    "    print(\"2. Fastighetsindex\")\n",
    "    print(\"3. KPIF Median\")\n",
    "    print(\"4. Arbetslöshet Median\")\n",
    "    choice = input(\"Ange ditt val (1-4): \")\n",
    "    return choice"
   ]
  },
  {
   "cell_type": "code",
   "execution_count": 1,
   "id": "0556aa48",
   "metadata": {
    "scrolled": false,
    "ExecuteTime": {
     "end_time": "2024-02-07T08:48:23.949955500Z",
     "start_time": "2024-02-07T08:48:23.418775400Z"
    }
   },
   "outputs": [
    {
     "ename": "NameError",
     "evalue": "name 'df_bostadsratter' is not defined",
     "output_type": "error",
     "traceback": [
      "\u001B[1;31m---------------------------------------------------------------------------\u001B[0m",
      "\u001B[1;31mNameError\u001B[0m                                 Traceback (most recent call last)",
      "Cell \u001B[1;32mIn[1], line 47\u001B[0m\n\u001B[0;32m     45\u001B[0m \u001B[38;5;66;03m#Kör programmet \u001B[39;00m\n\u001B[0;32m     46\u001B[0m \u001B[38;5;28;01mif\u001B[39;00m \u001B[38;5;18m__name__\u001B[39m \u001B[38;5;241m==\u001B[39m \u001B[38;5;124m\"\u001B[39m\u001B[38;5;124m__main__\u001B[39m\u001B[38;5;124m\"\u001B[39m:\n\u001B[1;32m---> 47\u001B[0m     \u001B[43mmain\u001B[49m\u001B[43m(\u001B[49m\u001B[43m)\u001B[49m\n",
      "Cell \u001B[1;32mIn[1], line 5\u001B[0m, in \u001B[0;36mmain\u001B[1;34m()\u001B[0m\n\u001B[0;32m      2\u001B[0m \u001B[38;5;28;01mdef\u001B[39;00m \u001B[38;5;21mmain\u001B[39m():\n\u001B[0;32m      3\u001B[0m     \u001B[38;5;66;03m# Skapar en dictionary för att mappa siffror till motsvarande DataFrame\u001B[39;00m\n\u001B[0;32m      4\u001B[0m     dataframes \u001B[38;5;241m=\u001B[39m {\n\u001B[1;32m----> 5\u001B[0m         \u001B[38;5;124m\"\u001B[39m\u001B[38;5;124m1\u001B[39m\u001B[38;5;124m\"\u001B[39m: \u001B[43mdf_bostadsratter\u001B[49m,\n\u001B[0;32m      6\u001B[0m         \u001B[38;5;124m\"\u001B[39m\u001B[38;5;124m2\u001B[39m\u001B[38;5;124m\"\u001B[39m: df_fastighetsindex,\n\u001B[0;32m      7\u001B[0m         \u001B[38;5;124m\"\u001B[39m\u001B[38;5;124m3\u001B[39m\u001B[38;5;124m\"\u001B[39m: df_kpif_median,\n\u001B[0;32m      8\u001B[0m         \u001B[38;5;124m\"\u001B[39m\u001B[38;5;124m4\u001B[39m\u001B[38;5;124m\"\u001B[39m: df_arbetsloshet_median\n\u001B[0;32m      9\u001B[0m     }\n\u001B[0;32m     11\u001B[0m     \u001B[38;5;66;03m# Kör en loop som fortsätter tills användaren väljer att avsluta. Här printas en huvudmeny med olika val.\u001B[39;00m\n\u001B[0;32m     12\u001B[0m     \u001B[38;5;28;01mwhile\u001B[39;00m \u001B[38;5;28;01mTrue\u001B[39;00m:\n",
      "\u001B[1;31mNameError\u001B[0m: name 'df_bostadsratter' is not defined"
     ]
    }
   ],
   "source": [
    "# Huvudfunktionen i programmet som gör att det körs direkt.\n",
    "def main():\n",
    "    # Skapar en dictionary för att mappa siffror till motsvarande DataFrame\n",
    "    dataframes = {\n",
    "        \"1\": df_bostadsratter,\n",
    "        \"2\": df_fastighetsindex,\n",
    "        \"3\": df_kpif_median,\n",
    "        \"4\": df_arbetsloshet_median\n",
    "    }\n",
    "    \n",
    "    # Kör en loop som fortsätter tills användaren väljer att avsluta. Här printas en huvudmeny med olika val.\n",
    "    while True:\n",
    "        print(\"\\nHuvudmeny:\")\n",
    "        print(\"1. Visa Bostadsrättspriser\")\n",
    "        print(\"2. Visa Fastighetsindex\")\n",
    "        print(\"3. Visa KPIF Median\")\n",
    "        print(\"4. Visa Arbetslöshet Median\")\n",
    "        print(\"5. Jämför två DataFrames\")\n",
    "        print(\"Q. Avsluta\")\n",
    "        \n",
    "        #Sparar valet från menyn i en variabel \"val\"\n",
    "        val = input(\"Välj ett alternativ: \")\n",
    "        \n",
    "        #Om val == \"q\" så avslutas programmet och loopen bryts\n",
    "        if val.lower() == \"q\":\n",
    "            print(\"Programmet avslutas.\")\n",
    "            break\n",
    "            \n",
    "        #Om val är en av dessa siffror så körs enkla plot-funktionen\n",
    "        elif val in [\"1\", \"2\", \"3\", \"4\"]:\n",
    "            plot_dataframe(dataframes[val])\n",
    "        #Om valet är \"5\" så körs get dataframe för att få fram valen och sparas i varsin variabel \"choice1\" och \"choice2\"\n",
    "        elif val == \"5\":\n",
    "            choice1 = get_dataframe_choice()\n",
    "            choice2 = get_dataframe_choice()\n",
    "            #Om man skrivit 1-4 på båda choicen kommer man vidare till funktionen som plottar båda dataframes i en graf\n",
    "            if choice1 in dataframes and choice2 in dataframes:\n",
    "                compare_dataframes(dataframes[choice1], dataframes[choice2], y_labels)\n",
    "            #Om valen inte finns i 1-4 så blir det ogiltligt!\n",
    "            else:\n",
    "                print(\"Ogiltiga val, försök igen.\")\n",
    "            #Samma här fast i större if-satsen.   \n",
    "        else:\n",
    "            print(\"Ogiltigt val, försök igen.\")\n",
    "#Kör programmet \n",
    "if __name__ == \"__main__\":\n",
    "    main()"
   ]
  },
  {
   "cell_type": "code",
   "execution_count": null,
   "id": "5f29451f",
   "metadata": {},
   "outputs": [],
   "source": []
  }
 ],
 "metadata": {
  "kernelspec": {
   "display_name": "Python 3",
   "language": "python",
   "name": "python3"
  },
  "language_info": {
   "codemirror_mode": {
    "name": "ipython",
    "version": 3
   },
   "file_extension": ".py",
   "mimetype": "text/x-python",
   "name": "python",
   "nbconvert_exporter": "python",
   "pygments_lexer": "ipython3",
   "version": "3.11.5"
  }
 },
 "nbformat": 4,
 "nbformat_minor": 5
}
