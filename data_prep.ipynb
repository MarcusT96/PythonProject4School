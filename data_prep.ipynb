{
 "cells": [
  {
   "cell_type": "code",
   "execution_count": 2,
   "id": "e87266fc",
   "metadata": {},
   "outputs": [],
   "source": [
    "import pandas as pd\n",
    "import matplotlib.pyplot as plt\n",
    "\n",
    "# Importerar pandas och matplotlib-biblioteken för datahantering och visualisering\n"
   ]
  },
  {
   "cell_type": "code",
   "execution_count": 3,
   "id": "43d6bf20",
   "metadata": {},
   "outputs": [],
   "source": [
    "\n",
    "# Läser in data från en Excel-fil som innehåller inflationsstatistik per månad\n",
    "df_kpif = pd.read_excel(\"KPIF-stats12month.xlsx\")\n",
    "# Ersätter 'M' med '-' i 'Datum'-kolumnen för att standardisera datumformatet\n",
    "df_kpif[\"Datum\"] = df_kpif[\"Datum\"].str.replace(\"M\",\"-\")\n"
   ]
  },
  {
   "cell_type": "code",
   "execution_count": 4,
   "id": "5abd36cd",
   "metadata": {},
   "outputs": [],
   "source": [
    "# Sätter Datumen till index istället för \"0,1,2,3,...n\" för bättre läsbarhet och tydlighet\n",
    "df_kpif.set_index(\"Datum\", inplace=True)\n",
    "\n",
    "# Konverterar indexet till datetime-format för bättre hantering av datumdata\n",
    "df_kpif.index = pd.to_datetime(df_kpif.index)"
   ]
  },
  {
   "cell_type": "code",
   "execution_count": 5,
   "id": "9b1412b7",
   "metadata": {},
   "outputs": [],
   "source": [
    "# Läser in fastighetsprisindex från en annan Excel-fil och använder 'År' som index\n",
    "df_property_price = pd.read_excel(\"Fastighetsindex.xlsx\")\n",
    "df_property_price.set_index(\"År\",inplace=True)"
   ]
  },
  {
   "cell_type": "code",
   "execution_count": 6,
   "id": "d51cdf32",
   "metadata": {},
   "outputs": [],
   "source": [
    "# Läser in data om bostadsrättspriser per kvadratmeter från en Excel-fil och använder 'År' som index\n",
    "df_bostadsratt_kvmpris = pd.read_excel(\"bostadsrattspriser.xlsx\")\n",
    "df_bostadsratt_kvmpris.set_index(\"År\",inplace=True)"
   ]
  },
  {
   "cell_type": "code",
   "execution_count": 7,
   "id": "7dfda1ee",
   "metadata": {},
   "outputs": [],
   "source": [
    "# Grupperar KPIF-data per år och beräkna medianvärdet för varje år för enklare jämförelse med de dataframesen med bara år som index\n",
    "yearly_median_kpif = df_kpif.groupby(pd.Grouper(freq='Y')).median()\n",
    "\n",
    "# Konverterar indexet från datetime till enbart år (int) då de andra års-indexen är integers.\n",
    "yearly_median_kpif.index = yearly_median_kpif.index.year\n",
    "\n",
    "# Sparar den bearbetade KPIF-data med medianvärden per år i en ny DataFrame\n",
    "df_kpif_median = yearly_median_kpif\n",
    "\n",
    "#Sparar median KPIF till excel-fil som resten av datafilerna.\n",
    "\n",
    "df_kpif_median.to_excel(\"kpif-stats-medianyear.xlsx\",index=True) "
   ]
  },
  {
   "cell_type": "code",
   "execution_count": 8,
   "id": "252043f3",
   "metadata": {},
   "outputs": [],
   "source": [
    "# Läser in data om arbetslöshet från en Excel-fil och använd 'Datum' som index\n",
    "df_arbetsloshet = pd.read_excel(\"arbetsloshet.xlsx\", index_col=\"Datum\")"
   ]
  },
  {
   "cell_type": "code",
   "execution_count": 9,
   "id": "e9b33a6d",
   "metadata": {},
   "outputs": [],
   "source": [
    "# Extraherar året från 'Datum'-indexet och konvertera till en heltalskolumn 'År'\n",
    "df_arbetsloshet['År'] = df_arbetsloshet.index.str[:4].astype('int64')\n",
    "\n",
    "# Grupperar arbetslöshetsdata per år och beräkna medianvärdet för 'Inskrivna arbetslösa'\n",
    "median_arbetsloshet = df_arbetsloshet.groupby('År')['Inskrivna arbetslösa'].median()\n",
    "\n",
    "# Sparar medianvärdet av arbetslöshetsdata till en ny Excel-fil\n",
    "median_arbetsloshet.to_excel(\"arbetsloshet-median.xlsx\",index=True)"
   ]
  }
 ],
 "metadata": {
  "kernelspec": {
   "display_name": "Python 3",
   "language": "python",
   "name": "python3"
  },
  "language_info": {
   "codemirror_mode": {
    "name": "ipython",
    "version": 3
   },
   "file_extension": ".py",
   "mimetype": "text/x-python",
   "name": "python",
   "nbconvert_exporter": "python",
   "pygments_lexer": "ipython3",
   "version": "3.11.5"
  }
 },
 "nbformat": 4,
 "nbformat_minor": 5
}
