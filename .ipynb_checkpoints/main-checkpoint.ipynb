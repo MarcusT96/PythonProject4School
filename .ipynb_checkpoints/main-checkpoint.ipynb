{
 "cells": [
  {
   "cell_type": "code",
   "execution_count": 2,
   "id": "7ce5ceb3",
   "metadata": {},
   "outputs": [],
   "source": [
    "import pandas as pd\n",
    "import matplotlib.pyplot as plt"
   ]
  },
  {
   "cell_type": "code",
   "execution_count": 27,
   "id": "e2d56ceb",
   "metadata": {},
   "outputs": [],
   "source": [
    "df_bostadsratter = pd.read_excel(\"bostadsrattspriser.xlsx\",index_col=\"År\")\n",
    "\n",
    "df_fastighetsindex = pd.read_excel(\"Fastighetsindex.xlsx\",index_col=\"År\")\n",
    "\n",
    "df_kpif = pd.read_excel(\"KPIF-stats12month.xlsx\")\n",
    "df_kpif[\"Datum\"] = df_kpif[\"Datum\"].str.replace(\"M\",\"-\")\n",
    "df_kpif.set_index(\"Datum\", inplace=True)\n",
    "\n",
    "df_kpif_median = pd.read_excel(\"kpif-stats-medianyear.xlsx\",index_col=\"Datum\")\n",
    "\n",
    "df_arbetsloshet = pd.read_excel(\"Arbetsloshet.xlsx\", index_col=\"Datum\")\n",
    "\n",
    "df_arbetsloshet_median = pd.read_excel(\"arbetsloshet-median.xlsx\", index_col=\"År\")"
   ]
  },
  {
   "cell_type": "code",
   "execution_count": null,
   "id": "55ae51b3",
   "metadata": {},
   "outputs": [],
   "source": []
  },
  {
   "cell_type": "code",
   "execution_count": null,
   "id": "11a8c56d",
   "metadata": {},
   "outputs": [],
   "source": []
  },
  {
   "cell_type": "code",
   "execution_count": null,
   "id": "fd4cadf7",
   "metadata": {},
   "outputs": [],
   "source": []
  }
 ],
 "metadata": {
  "kernelspec": {
   "display_name": "Python 3",
   "language": "python",
   "name": "python3"
  },
  "language_info": {
   "codemirror_mode": {
    "name": "ipython",
    "version": 3
   },
   "file_extension": ".py",
   "mimetype": "text/x-python",
   "name": "python",
   "nbconvert_exporter": "python",
   "pygments_lexer": "ipython3",
   "version": "3.11.5"
  }
 },
 "nbformat": 4,
 "nbformat_minor": 5
}
